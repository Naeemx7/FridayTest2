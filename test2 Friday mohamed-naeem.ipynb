{
 "cells": [
  {
   "cell_type": "markdown",
   "id": "4bdf094c",
   "metadata": {},
   "source": [
    "# محمد نعيم محمد محمد شوشه"
   ]
  },
  {
   "cell_type": "markdown",
   "id": "92ea2796",
   "metadata": {},
   "source": [
    "#1 Write a program That can take Name in lower case and return it in Upper case\n",
    "\n",
    "use function \n",
    "and map "
   ]
  },
  {
   "cell_type": "code",
   "execution_count": 4,
   "id": "5203f9d7",
   "metadata": {},
   "outputs": [
    {
     "data": {
      "text/plain": [
       "['MOHAMED', 'AHMED', 'KHALED', 'ALI']"
      ]
     },
     "execution_count": 4,
     "metadata": {},
     "output_type": "execute_result"
    }
   ],
   "source": [
    "names=['mohamed','ahmed','khaled','ali']\n",
    "def function(name):\n",
    "    result = name.upper()\n",
    "    return result\n",
    "list (map(function,names))"
   ]
  },
  {
   "cell_type": "markdown",
   "id": "95e272b4",
   "metadata": {},
   "source": [
    "#2 Write a Program That Can Take a Number and Check for it (prime or Not)\n",
    "use function \n",
    "use map funcion "
   ]
  },
  {
   "cell_type": "code",
   "execution_count": 20,
   "id": "a819bd87",
   "metadata": {},
   "outputs": [
    {
     "name": "stdout",
     "output_type": "stream",
     "text": [
      "Enter a number: 5\n",
      "5 is a prime number.\n"
     ]
    }
   ],
   "source": [
    "def is_prime(num):\n",
    "    if num == 1:\n",
    "        return False\n",
    "    if num == 3:\n",
    "        return True\n",
    "    if num % 2 == 0 or num % 3 == 0:\n",
    "        return False\n",
    "    i = 5\n",
    "    while i * i <= num:\n",
    "        if num % i == 0 or num % (i + 2) == 0:\n",
    "            return False\n",
    "        i += 6\n",
    "    return True\n",
    "\n",
    "if __name__ == \"__main__\":\n",
    "    try:\n",
    "        num = int(input(\"Enter a number: \"))\n",
    "        if is_prime(num):\n",
    "            print(f\"{num} is a prime number.\")\n",
    "        else:\n",
    "            print(f\"{num} is not a prime number.\")\n",
    "    except ValueError:\n",
    "        print(\"Error: Please enter a valid number.\")\n"
   ]
  },
  {
   "cell_type": "code",
   "execution_count": null,
   "id": "cb3526b5",
   "metadata": {},
   "outputs": [],
   "source": []
  }
 ],
 "metadata": {
  "kernelspec": {
   "display_name": "Python 3 (ipykernel)",
   "language": "python",
   "name": "python3"
  },
  "language_info": {
   "codemirror_mode": {
    "name": "ipython",
    "version": 3
   },
   "file_extension": ".py",
   "mimetype": "text/x-python",
   "name": "python",
   "nbconvert_exporter": "python",
   "pygments_lexer": "ipython3",
   "version": "3.11.4"
  }
 },
 "nbformat": 4,
 "nbformat_minor": 5
}
